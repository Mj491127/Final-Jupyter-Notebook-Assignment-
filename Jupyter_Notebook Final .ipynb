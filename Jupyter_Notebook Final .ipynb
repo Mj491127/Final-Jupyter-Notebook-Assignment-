{
  "metadata": {
    "kernelspec": {
      "name": "python",
      "display_name": "Pyolite",
      "language": "python"
    },
    "language_info": {
      "codemirror_mode": {
        "name": "python",
        "version": 3
      },
      "file_extension": ".py",
      "mimetype": "text/x-python",
      "name": "python",
      "nbconvert_exporter": "python",
      "pygments_lexer": "ipython3",
      "version": "3.8"
    }
  },
  "nbformat_minor": 4,
  "nbformat": 4,
  "cells": [
    {
      "cell_type": "markdown",
      "source": "<center>\n    <img src=\"https://s3-api.us-geo.objectstorage.softlayer.net/cf-courses-data/CognitiveClass/Logos/organization_logo/organization_logo.png\" width=\"300\" alt=\"cognitiveclass.ai logo\"  />\n</center>\n",
      "metadata": {}
    },
    {
      "cell_type": "markdown",
      "source": "# My Jupyter Notebook on IBM Watson Studio\n",
      "metadata": {}
    },
    {
      "cell_type": "markdown",
      "source": "__Maurice Mathies__\n\nData Architect ",
      "metadata": {}
    },
    {
      "cell_type": "markdown",
      "source": "_I am interested in Data Science because I believe that it is the future of our society and world as a whole. Data science could path the way toward evolution and so much more._",
      "metadata": {}
    },
    {
      "cell_type": "markdown",
      "source": "### The code displayed in cell 5 should calculate  and reflect a simple math problem, such as 5 plus 5.",
      "metadata": {}
    },
    {
      "cell_type": "code",
      "source": "5 + 5",
      "metadata": {
        "trusted": true
      },
      "execution_count": 1,
      "outputs": [
        {
          "execution_count": 1,
          "output_type": "execute_result",
          "data": {
            "text/plain": "10"
          },
          "metadata": {}
        }
      ]
    },
    {
      "cell_type": "markdown",
      "source": "1. Stephen Curry\n2. Giannas Antetekounmpo \n3. Kevin Durant \n4. Luka Doncic \n5. Joel Embid \n\n[Maurice](https://www.shrm.org/certification/apply/Pages/applicationprocess.aspx)\n\n- Playstation\n- PC\n- Playstation 4\n- Playstation 3\n",
      "metadata": {}
    },
    {
      "cell_type": "code",
      "source": "",
      "metadata": {},
      "execution_count": null,
      "outputs": []
    }
  ]
}